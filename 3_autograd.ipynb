{
 "cells": [
  {
   "cell_type": "code",
   "execution_count": 2,
   "id": "b7de22ad-72b1-432d-8622-bdb9cc2f8847",
   "metadata": {},
   "outputs": [],
   "source": [
    "import numpy as np\n",
    "import pandas as pd"
   ]
  },
  {
   "cell_type": "code",
   "execution_count": 26,
   "id": "663498b7-43f8-43ea-b104-0739206b9f47",
   "metadata": {},
   "outputs": [],
   "source": [
    "class Node:\n",
    "    def __init__(self):\n",
    "        self.in_nodes = []\n",
    "        self.out_nodes = []\n",
    "        pass\n",
    "    \n",
    "    def add_out_node(self, out_node):\n",
    "        out_node.in_nodes.append(self)\n",
    "        self.out_nodes.append(out_node)\n",
    "        pass\n",
    "    \n",
    "    def forward_pass(self, data):\n",
    "        outputs = [node.forward(data) for node in self.out_nodes]\n",
    "        return outputs\n",
    "    \n",
    "class Logistic(Node):\n",
    "    def __init__(self):\n",
    "        super(Logistic, self).__init__()\n",
    "        \n",
    "    def forward(self, x):\n",
    "        return 1/(1 + np.exp(-x))\n",
    "    \n",
    "    def backward(self, x):\n",
    "        return self.forward(x) * (1 - self.forward(x))\n",
    "    \n",
    "class Linear(Node):\n",
    "    def __init__(self, in_params, out_params):\n",
    "        super(Linear, self).__init__()\n",
    "        self.weight = np.random.random((in_params, out_params))\n",
    "        \n",
    "    def forward(self, x):\n",
    "        return self.weight @ x\n",
    "    \n",
    "    def backward(self, x):\n",
    "        return self.weight\n",
    "    \n",
    "class CrossEntropy(Node):\n",
    "    def __init__(self):\n",
    "        super(CrossEntropy, self).__init__()\n",
    "        \n",
    "    def forward(self, y_hat, y):\n",
    "        return (y * np.log(1 + np.exp(-y_hat)) + (1 - y) * np.log(1 + np.exp(y_hat)))\n",
    "    \n",
    "    def backward(self, y_hat, y):\n",
    "        return y - y_hat"
   ]
  },
  {
   "cell_type": "code",
   "execution_count": 27,
   "id": "937a9ab1-06af-4f93-910e-d6bc751bb089",
   "metadata": {},
   "outputs": [
    {
     "data": {
      "text/plain": [
       "0.5"
      ]
     },
     "execution_count": 27,
     "metadata": {},
     "output_type": "execute_result"
    }
   ],
   "source": [
    "s = Logistic()\n",
    "s.forward(0)"
   ]
  },
  {
   "cell_type": "code",
   "execution_count": 36,
   "id": "4bb1168f-5f18-4651-ab1f-3686b04d3334",
   "metadata": {},
   "outputs": [],
   "source": [
    "start = Linear(3, 1)\n",
    "start.add_out_node(CrossEntropy())"
   ]
  },
  {
   "cell_type": "code",
   "execution_count": 37,
   "id": "2e795266-474c-4757-9d51-eea035890ac6",
   "metadata": {},
   "outputs": [],
   "source": [
    "data = np.random.random((1000,3))"
   ]
  },
  {
   "cell_type": "code",
   "execution_count": 38,
   "id": "7d26bd55-d296-4f43-972c-d7c8e3142dce",
   "metadata": {},
   "outputs": [
    {
     "ename": "TypeError",
     "evalue": "forward() missing 1 required positional argument: 'y'",
     "output_type": "error",
     "traceback": [
      "\u001b[1;31m---------------------------------------------------------------------------\u001b[0m",
      "\u001b[1;31mTypeError\u001b[0m                                 Traceback (most recent call last)",
      "Input \u001b[1;32mIn [38]\u001b[0m, in \u001b[0;36m<module>\u001b[1;34m\u001b[0m\n\u001b[1;32m----> 1\u001b[0m \u001b[43mstart\u001b[49m\u001b[38;5;241;43m.\u001b[39;49m\u001b[43mforward_pass\u001b[49m\u001b[43m(\u001b[49m\u001b[43mdata\u001b[49m\u001b[43m)\u001b[49m\n",
      "Input \u001b[1;32mIn [26]\u001b[0m, in \u001b[0;36mNode.forward_pass\u001b[1;34m(self, data)\u001b[0m\n\u001b[0;32m     12\u001b[0m \u001b[38;5;28;01mdef\u001b[39;00m \u001b[38;5;21mforward_pass\u001b[39m(\u001b[38;5;28mself\u001b[39m, data):\n\u001b[1;32m---> 13\u001b[0m     outputs \u001b[38;5;241m=\u001b[39m [node\u001b[38;5;241m.\u001b[39mforward(data) \u001b[38;5;28;01mfor\u001b[39;00m node \u001b[38;5;129;01min\u001b[39;00m \u001b[38;5;28mself\u001b[39m\u001b[38;5;241m.\u001b[39mout_nodes]\n\u001b[0;32m     14\u001b[0m     \u001b[38;5;28;01mreturn\u001b[39;00m outputs\n",
      "Input \u001b[1;32mIn [26]\u001b[0m, in \u001b[0;36m<listcomp>\u001b[1;34m(.0)\u001b[0m\n\u001b[0;32m     12\u001b[0m \u001b[38;5;28;01mdef\u001b[39;00m \u001b[38;5;21mforward_pass\u001b[39m(\u001b[38;5;28mself\u001b[39m, data):\n\u001b[1;32m---> 13\u001b[0m     outputs \u001b[38;5;241m=\u001b[39m [\u001b[43mnode\u001b[49m\u001b[38;5;241;43m.\u001b[39;49m\u001b[43mforward\u001b[49m\u001b[43m(\u001b[49m\u001b[43mdata\u001b[49m\u001b[43m)\u001b[49m \u001b[38;5;28;01mfor\u001b[39;00m node \u001b[38;5;129;01min\u001b[39;00m \u001b[38;5;28mself\u001b[39m\u001b[38;5;241m.\u001b[39mout_nodes]\n\u001b[0;32m     14\u001b[0m     \u001b[38;5;28;01mreturn\u001b[39;00m outputs\n",
      "\u001b[1;31mTypeError\u001b[0m: forward() missing 1 required positional argument: 'y'"
     ]
    }
   ],
   "source": [
    "start.forward_pass(data)"
   ]
  },
  {
   "cell_type": "code",
   "execution_count": null,
   "id": "728a3bbd-bf12-4bb7-9ae9-7bc4514d2aef",
   "metadata": {},
   "outputs": [],
   "source": []
  }
 ],
 "metadata": {
  "kernelspec": {
   "display_name": "Python 3 (ipykernel)",
   "language": "python",
   "name": "python3"
  },
  "language_info": {
   "codemirror_mode": {
    "name": "ipython",
    "version": 3
   },
   "file_extension": ".py",
   "mimetype": "text/x-python",
   "name": "python",
   "nbconvert_exporter": "python",
   "pygments_lexer": "ipython3",
   "version": "3.9.7"
  }
 },
 "nbformat": 4,
 "nbformat_minor": 5
}
